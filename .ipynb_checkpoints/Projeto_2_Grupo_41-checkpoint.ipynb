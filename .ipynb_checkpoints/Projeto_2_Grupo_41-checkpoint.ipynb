{
 "cells": [
  {
   "cell_type": "code",
   "execution_count": 1,
   "id": "4b877ccf",
   "metadata": {},
   "outputs": [],
   "source": [
    "import pandas as pd\n",
    "dataSet= pd.read_csv(\"biodegradable_a.csv\", sep=\",\")"
   ]
  },
  {
   "cell_type": "code",
   "execution_count": 2,
   "id": "1a62a96a",
   "metadata": {},
   "outputs": [],
   "source": [
    "from sklearn.impute import KNNImputer\n",
    "# Escolhemos 5 vizinhos de modo a obter uma valor médio para cada valor em falta \n",
    "# ou seja nem muito adaptado aos dados (overfitting) nem muito suave (underfitting)\n",
    "imputer = KNNImputer(n_neighbors=5, weights=\"uniform\");\n",
    "badColumns = dataSet.columns[dataSet.isnull().any()];\n",
    "dataSet[badColumns] = imputer.fit_transform(dataSet[badColumns]);"
   ]
  },
  {
   "cell_type": "markdown",
   "id": "e79debc4",
   "metadata": {},
   "source": [
    "Categorizar a variável Biodegradable em binário."
   ]
  },
  {
   "cell_type": "code",
   "execution_count": 3,
   "id": "e873e885",
   "metadata": {},
   "outputs": [],
   "source": [
    "binario = pd.get_dummies(dataSet, columns=['Biodegradable'], prefix=['Biodegradable']);\n",
    "dataSet = pd.concat([dataSet, binario['Biodegradable_RB']], axis=1)\n",
    "dataSet = dataSet.drop('Biodegradable', axis=1)\n",
    "dataSet['Biodegradable_RB'] = dataSet['Biodegradable_RB'].astype(int)"
   ]
  },
  {
   "cell_type": "markdown",
   "id": "0e05a65a",
   "metadata": {},
   "source": [
    "### Scaling data... To see wich is the best scaler\n",
    "\n"
   ]
  },
  {
   "cell_type": "code",
   "execution_count": 4,
   "id": "56529972",
   "metadata": {},
   "outputs": [],
   "source": [
    "from sklearn.metrics import precision_score, recall_score, f1_score, matthews_corrcoef, confusion_matrix, accuracy_score\n",
    "from sklearn.preprocessing import MinMaxScaler, RobustScaler,StandardScaler\n",
    "# Método retirado do notebook: EC_TP04.ipynb -> 2022/2023\n",
    "# Este método imprime um conjunto de estatísticas sobre um determinado modelo treinado e as suas previsoes.\n",
    "def printClassResults(truth, preds,toPrint = True,matrix = True):\n",
    "    if(toPrint):\n",
    "        print(\"The Accuracy is: %7.4f\" % accuracy_score(truth, preds),end=\"\\t\")\n",
    "        print(\"The Precision is: %7.4f\" % precision_score(truth, preds),end=\"\\t\")\n",
    "        print(\"The Recall is: %7.4f\" % recall_score(truth, preds),end=\"\\t\")\n",
    "        print(\"The F1 score is: %7.4f\" % f1_score(truth, preds),end=\"\\t\")\n",
    "        print(\"The Matthews correlation coefficient is: %7.4f\" % matthews_corrcoef(truth, preds),end=\"\\n\")\n",
    "        \n",
    "        if(matrix):\n",
    "            print(\"Esta é a Matriz Confusão: \")\n",
    "            print(pd.DataFrame(confusion_matrix(truth, preds)))\n",
    "    return [accuracy_score(truth, preds),precision_score(truth, preds),recall_score(truth, preds),\n",
    "            f1_score(truth, preds),matthews_corrcoef(truth, preds)]\n",
    "scalers = {\n",
    "    'StandardScaler': StandardScaler(),\n",
    "    'RobustScaler': RobustScaler(),\n",
    "    'MinMaxScaler': MinMaxScaler()\n",
    "}\n",
    "def testScalers(scalers, model, results,Xtrain,Xtest,Ytrain,Ytest,toPrint = True,matrixB = True):\n",
    "    ret= []\n",
    "    for scaler_name, scaler in scalers.items():\n",
    "        X_train_scaled = scaler.fit_transform(Xtrain)\n",
    "        X_test_scaled = scaler.transform(Xtest)\n",
    "        model.fit(X_train_scaled, Ytrain)\n",
    "        Ypred = model.predict(X_test_scaled)\n",
    "        accuracy = accuracy_score(Ytest, Ypred)\n",
    "        results[scaler_name] = accuracy\n",
    "        if(toPrint):\n",
    "            print(\"Scaler: \",scaler_name);\n",
    "        ret = printClassResults(Ytest,Ypred, toPrint,matrixB);\n",
    "        if(toPrint):\n",
    "            print()\n",
    "    return ret\n",
    "def scaleData(scaler,Xtrain,Xtest):\n",
    "    X_train_scaled = scaler.fit_transform(Xtrain)\n",
    "    X_test_scaled = scaler.transform(Xtest)\n",
    "    return X_train_scaled, X_test_scaled"
   ]
  },
  {
   "cell_type": "markdown",
   "id": "63c2bb71",
   "metadata": {},
   "source": [
    "##### Logistic Regression:"
   ]
  },
  {
   "cell_type": "code",
   "execution_count": 5,
   "id": "6f142122",
   "metadata": {},
   "outputs": [
    {
     "name": "stdout",
     "output_type": "stream",
     "text": [
      "Scaler:  StandardScaler\n",
      "The Accuracy is:  0.9608\tThe Precision is:  0.9634\tThe Recall is:  0.9914\tThe F1 score is:  0.9772\tThe Matthews correlation coefficient is:  0.8441\n",
      "\n",
      "Scaler:  RobustScaler\n",
      "The Accuracy is:  0.9575\tThe Precision is:  0.9611\tThe Recall is:  0.9898\tThe F1 score is:  0.9753\tThe Matthews correlation coefficient is:  0.8304\n",
      "\n",
      "Scaler:  MinMaxScaler\n",
      "The Accuracy is:  0.9416\tThe Precision is:  0.9425\tThe Recall is:  0.9914\tThe F1 score is:  0.9663\tThe Matthews correlation coefficient is:  0.7612\n",
      "\n"
     ]
    }
   ],
   "source": [
    "from sklearn.linear_model import LogisticRegression\n",
    "from sklearn.model_selection import train_test_split\n",
    "X = dataSet.drop('Biodegradable_RB', axis=1)\n",
    "y = dataSet['Biodegradable_RB'] \n",
    "X_train, X_test, y_train, y_test = train_test_split(X, y, test_size=0.33, random_state=22)\n",
    "results = {}\n",
    "testScalers(scalers,LogisticRegression(max_iter=1000,random_state=0),results,X_train,X_test,y_train,y_test,True,False);"
   ]
  },
  {
   "cell_type": "markdown",
   "id": "4988eceb",
   "metadata": {},
   "source": [
    "Tendo em conta os resultados para o Logistic Regression temos que o **Standart Scaler** obteve melhores resultados"
   ]
  },
  {
   "cell_type": "markdown",
   "id": "99d48e2c",
   "metadata": {},
   "source": [
    "#### Decision Trees:"
   ]
  },
  {
   "cell_type": "code",
   "execution_count": 6,
   "id": "58c3aaa0",
   "metadata": {},
   "outputs": [
    {
     "name": "stdout",
     "output_type": "stream",
     "text": [
      "Scaler:  StandardScaler\n",
      "The Accuracy is:  0.9595\tThe Precision is:  0.9742\tThe Recall is:  0.9780\tThe F1 score is:  0.9761\tThe Matthews correlation coefficient is:  0.8439\n",
      "\n",
      "Scaler:  RobustScaler\n",
      "The Accuracy is:  0.9595\tThe Precision is:  0.9749\tThe Recall is:  0.9772\tThe F1 score is:  0.9761\tThe Matthews correlation coefficient is:  0.8444\n",
      "\n",
      "Scaler:  MinMaxScaler\n",
      "The Accuracy is:  0.9589\tThe Precision is:  0.9734\tThe Recall is:  0.9780\tThe F1 score is:  0.9757\tThe Matthews correlation coefficient is:  0.8410\n",
      "\n"
     ]
    }
   ],
   "source": [
    "from sklearn.tree import DecisionTreeClassifier\n",
    "X = dataSet.drop('Biodegradable_RB', axis=1)\n",
    "y = dataSet['Biodegradable_RB'] \n",
    "X_train, X_test, y_train, y_test = train_test_split(X, y, test_size=0.33, random_state=22)\n",
    "results = {}\n",
    "testScalers(scalers,DecisionTreeClassifier(),results,X_train,X_test,y_train,y_test,True,False);"
   ]
  },
  {
   "cell_type": "markdown",
   "id": "e10a4237",
   "metadata": {},
   "source": [
    "Tendo em conta os resultados para as Decision Trees temos que o **Robust Scaler** obteve melhores resultados"
   ]
  },
  {
   "cell_type": "markdown",
   "id": "8cb0dc02",
   "metadata": {},
   "source": [
    "#### Random Forests:"
   ]
  },
  {
   "cell_type": "code",
   "execution_count": 7,
   "id": "ce11719f",
   "metadata": {},
   "outputs": [
    {
     "name": "stdout",
     "output_type": "stream",
     "text": [
      "Scaler:  StandardScaler\n",
      "The Accuracy is:  0.9721\tThe Precision is:  0.9798\tThe Recall is:  0.9874\tThe F1 score is:  0.9836\tThe Matthews correlation coefficient is:  0.8918\n",
      "\n",
      "Scaler:  RobustScaler\n",
      "The Accuracy is:  0.9735\tThe Precision is:  0.9813\tThe Recall is:  0.9874\tThe F1 score is:  0.9844\tThe Matthews correlation coefficient is:  0.8972\n",
      "\n",
      "Scaler:  MinMaxScaler\n",
      "The Accuracy is:  0.9715\tThe Precision is:  0.9782\tThe Recall is:  0.9882\tThe F1 score is:  0.9832\tThe Matthews correlation coefficient is:  0.8888\n",
      "\n"
     ]
    }
   ],
   "source": [
    "from sklearn.ensemble import RandomForestClassifier\n",
    "X = dataSet.drop('Biodegradable_RB', axis=1)\n",
    "y = dataSet['Biodegradable_RB']\n",
    "X_train, X_test, y_train, y_test = train_test_split(X, y, test_size=0.33, random_state=22)\n",
    "results = {}\n",
    "testScalers(scalers,RandomForestClassifier(),results,X_train,X_test,y_train,y_test,True,False);"
   ]
  },
  {
   "cell_type": "markdown",
   "id": "5f434990",
   "metadata": {},
   "source": [
    "Tendo em conta os resultados para o Random Forests temos que o **MinMaxScaler** obteve melhores resultados"
   ]
  },
  {
   "cell_type": "markdown",
   "id": "6e323895",
   "metadata": {},
   "source": [
    "#### SVM:"
   ]
  },
  {
   "cell_type": "code",
   "execution_count": 8,
   "id": "31dbd0cf",
   "metadata": {},
   "outputs": [
    {
     "name": "stdout",
     "output_type": "stream",
     "text": [
      "Scaler:  StandardScaler\n",
      "The Accuracy is:  0.9688\tThe Precision is:  0.9716\tThe Recall is:  0.9922\tThe F1 score is:  0.9817\tThe Matthews correlation coefficient is:  0.8770\n",
      "\n",
      "Scaler:  RobustScaler\n",
      "The Accuracy is:  0.9608\tThe Precision is:  0.9620\tThe Recall is:  0.9929\tThe F1 score is:  0.9772\tThe Matthews correlation coefficient is:  0.8440\n",
      "\n",
      "Scaler:  MinMaxScaler\n",
      "The Accuracy is:  0.9502\tThe Precision is:  0.9531\tThe Recall is:  0.9898\tThe F1 score is:  0.9711\tThe Matthews correlation coefficient is:  0.7992\n",
      "\n"
     ]
    }
   ],
   "source": [
    "from sklearn.svm import SVC\n",
    "X = dataSet.drop('Biodegradable_RB', axis=1)\n",
    "y = dataSet['Biodegradable_RB']\n",
    "X_train, X_test, y_train, y_test = train_test_split(X, y, test_size=0.33, random_state=22)\n",
    "results = {}\n",
    "testScalers(scalers,SVC(),results,X_train,X_test,y_train,y_test,True,False);"
   ]
  },
  {
   "cell_type": "markdown",
   "id": "7d815a49",
   "metadata": {},
   "source": [
    "#### Tendo em conta que em todos os testes usando 4 modelos diferentes, o StandartScaler obteve os melhores resultados em 3 dos 4 testes deve ser utilizado o método de scaling : **StandartScaler**"
   ]
  },
  {
   "cell_type": "markdown",
   "id": "fdfc5e56",
   "metadata": {},
   "source": [
    "### Identificar e remover colunas irrelevantes"
   ]
  },
  {
   "cell_type": "markdown",
   "id": "bf53a534",
   "metadata": {},
   "source": [
    "#### Usar o Correlation selection method para remover variáveis irrelavantes:"
   ]
  },
  {
   "cell_type": "code",
   "execution_count": 9,
   "id": "d1d6ab13",
   "metadata": {},
   "outputs": [
    {
     "name": "stdout",
     "output_type": "stream",
     "text": [
      "Tendo em conta a correlacao das features em relacao a variavel alvo  temos o seguinte grafico:\n"
     ]
    },
    {
     "data": {
      "image/png": "[encoded data removed]",
      "text/plain": [
       "<Figure size 432x324 with 1 Axes>"
      ]
     },
     "metadata": {
      "needs_background": "light"
     },
     "output_type": "display_data"
    }
   ],
   "source": [
    "from sklearn import tree\n",
    "from sklearn.model_selection import train_test_split, KFold\n",
    "from sklearn.metrics import f1_score, confusion_matrix,matthews_corrcoef, precision_score, recall_score\n",
    "from sklearn.metrics import explained_variance_score, mean_squared_error\n",
    "from sklearn.ensemble import RandomForestClassifier\n",
    "from sklearn.model_selection import train_test_split\n",
    "import numpy as np\n",
    "import matplotlib.pyplot as plt\n",
    "import seaborn as sns\n",
    "print(\"Tendo em conta a correlacao das features em relacao a variavel alvo  temos o seguinte grafico:\")\n",
    "biodegradable_corr = dataSet.corr()['Biodegradable_RB'].drop('Biodegradable_RB')\n",
    "plt.figure(figsize=(6, 4.5))\n",
    "sns.barplot(x=biodegradable_corr, y=biodegradable_corr.index)\n",
    "plt.title('Correlation with Biodegradable')\n",
    "plt.xlabel('Correlation')\n",
    "plt.ylabel('Features')\n",
    "plt.show()"
   ]
  },
  {
   "cell_type": "markdown",
   "id": "fa15c5c0",
   "metadata": {},
   "source": [
    "Como podemos ver pelo gráfico existem muitas features que praticamente nao são relevantes para a previsao da variavel Biodegradable ( a nossa variavel alvo) por este motivo é que devemos reduzir o numero de colunas para obeter somente as que são relevantes , reduzindo a dimensionalidade, o que vai ser muito importante para a performance dos nossos modelos e até logo a seguir quando formos avaliar quais são as features mais importantes."
   ]
  },
  {
   "cell_type": "markdown",
   "id": "218c5349",
   "metadata": {},
   "source": [
    "### Portanto vamos agora remover as variaveis irrelevantes e perceber que ganhos de accuracy obtivemos com esta diminuicao das features a avaliar:"
   ]
  },
  {
   "cell_type": "code",
   "execution_count": 10,
   "id": "8aa4f276",
   "metadata": {},
   "outputs": [
    {
     "name": "stdout",
     "output_type": "stream",
     "text": [
      "Teste com * TODAS * as variáveis:\n",
      "Scaler:  StandartScaler\n",
      "The Accuracy is:  0.9735\tThe Precision is:  0.9813\tThe Recall is:  0.9874\tThe F1 score is:  0.9844\tThe Matthews correlation coefficient is:  0.8972\n",
      "\n",
      "Foram removidas 20 features de modo a diminuir a dimensionalidade dos dados\n",
      "\n",
      "\n",
      "Teste após * SEREM REMOVIDAS AS VARIAVEIS IRRELEVANTES *\n",
      "Scaler:  StandartScaler\n",
      "The Accuracy is:  0.9728\tThe Precision is:  0.9753\tThe Recall is:  0.9929\tThe F1 score is:  0.9841\tThe Matthews correlation coefficient is:  0.8932\n",
      "\n"
     ]
    }
   ],
   "source": [
    "X = dataSet.drop('Biodegradable_RB', axis=1)\n",
    "y = dataSet['Biodegradable_RB']\n",
    "Xtrain_scaled, Xtest_scaled = scaleData(StandardScaler(),X_train,X_test)\n",
    "X_train, X_test, y_train, y_test = train_test_split(X, y, test_size=0.33, random_state=22)\n",
    "results = {}\n",
    "# Obter as stats antes da remocao das irrelevantes\n",
    "print(\"Teste com * TODAS * as variáveis:\")\n",
    "testScalers({'StandartScaler':StandardScaler()},RandomForestClassifier(),results,X_train,X_test,y_train,y_test,True,False);\n",
    "N,M=Xtrain_scaled.shape\n",
    "N,M\n",
    "v=np.hstack((y_train.values.reshape((N,1)), Xtrain_scaled))\n",
    "corr_data = pd.DataFrame(np.corrcoef(v.T))\n",
    "first_column = corr_data.iloc[:, 0]\n",
    "positive = True\n",
    "counter=1;\n",
    "selColIndexs = []\n",
    "while positive and counter<len(first_column):\n",
    "    value = first_column.iloc[counter];\n",
    "    if(value>0.05 or value<-0.3):\n",
    "        selColIndexs.append(counter-1);\n",
    "    counter+=1        \n",
    "# indices (já sem a coluna adicionada da variavel alvo) com as features que nao foram removidas - ou seja as relevantes;\n",
    "selColIndexs.append(dataSet.shape[1]-1);\n",
    "#Apartir de agora este é o novo DataSet contendo apenas as colunas relevantes\n",
    "smallDataSet = dataSet.iloc[:,selColIndexs];\n",
    "X = smallDataSet.drop('Biodegradable_RB', axis=1)\n",
    "y = smallDataSet['Biodegradable_RB']\n",
    "Xtrain_scaled, Xtest_scaled = scaleData(StandardScaler(),X_train,X_test)\n",
    "X_train, X_test, y_train, y_test = train_test_split(X, y, test_size=0.33, random_state=22)\n",
    "#Numero de variaveis removidas de maneira a reduzir a dimensionalidade\n",
    "print(\"Foram removidas\",len(first_column) - len(selColIndexs),\"features de modo a diminuir a dimensionalidade dos dados\");\n",
    "print(\"\\n\\nTeste após * SEREM REMOVIDAS AS VARIAVEIS IRRELEVANTES *\");\n",
    "testScalers({'StandartScaler':StandardScaler()},RandomForestClassifier(),results,X_train,X_test,y_train,y_test,True,False);\n",
    "smallDataSet;"
   ]
  },
  {
   "cell_type": "markdown",
   "id": "8f54e872",
   "metadata": {},
   "source": [
    "Desta maneira acabámos por reduzir a dimensionalidade dos dados, eliminando cerca de 20 colunas irrelevantes e ainda acabámos por melhorar um pouco a accuracy de previsão usando uma RandomForest e escalando os dados com StandartScaler\n",
    "\n",
    "Podemos ver que agora temos o seguinte gráfico:\n"
   ]
  },
  {
   "cell_type": "code",
   "execution_count": 11,
   "id": "b1633579",
   "metadata": {},
   "outputs": [
    {
     "data": {
      "image/png": "[encoded data removed]",
      "text/plain": [
       "<Figure size 288x216 with 1 Axes>"
      ]
     },
     "metadata": {
      "needs_background": "light"
     },
     "output_type": "display_data"
    }
   ],
   "source": [
    "biodegradable_corr = smallDataSet.corr()['Biodegradable_RB'].drop('Biodegradable_RB')\n",
    "plt.figure(figsize=(4, 3))\n",
    "sns.barplot(x=biodegradable_corr, y=biodegradable_corr.index)\n",
    "plt.title('Correlation with Biodegradable')\n",
    "plt.xlabel('Correlation')\n",
    "plt.ylabel('Features')\n",
    "plt.show()"
   ]
  },
  {
   "cell_type": "markdown",
   "id": "7e9f8d46",
   "metadata": {},
   "source": [
    "## Para perceber quais as features mais importantes dentro das features relevantes que obtivemos vamos utilizar o Stepwise Feature selection para selecionar 6 features mais importantes."
   ]
  },
  {
   "cell_type": "markdown",
   "id": "b6f93f86",
   "metadata": {},
   "source": [
    "#### Using Stepwise Feature selection method :\n"
   ]
  },
  {
   "cell_type": "code",
   "execution_count": 12,
   "id": "c230f4f2",
   "metadata": {},
   "outputs": [],
   "source": [
    "#ESTE PASSO COSTUMA DEMORAR CERCA DE 2 MIN A EXECUTAR !!\n",
    "# Vamos tentar descobrir quais as 5 variáveis mais relevantes usando o Stepwise Feature selection, depois de terem sido removidas\n",
    "# as colunas irrelevantes usando a correlação.\n",
    "from sklearn.feature_selection import SequentialFeatureSelector\n",
    "X = smallDataSet.drop('Biodegradable_RB', axis=1)\n",
    "y =smallDataSet['Biodegradable_RB']\n",
    "X_train, X_test, y_train, y_test = train_test_split(X, y, test_size=0.33, random_state=22)\n",
    "Xtrain_scaled, Xtest_scaled = scaleData(StandardScaler(),X_train,X_test)\n",
    "N,M=Xtrain_scaled.shape\n",
    "clf = RandomForestClassifier()\n",
    "sfs = SequentialFeatureSelector(clf, n_features_to_select=6)\n",
    "sfs.fit(Xtrain_scaled, y_train)\n",
    "features=sfs.get_support()\n",
    "features_selected = X.columns[features].values"
   ]
  },
  {
   "cell_type": "code",
   "execution_count": 13,
   "id": "87b44208",
   "metadata": {},
   "outputs": [
    {
     "name": "stdout",
     "output_type": "stream",
     "text": [
      "The 6 features selected are columns:  ['nHM' 'nCb' 'nO' 'F03' 'Mi' 'F02_CN']\n"
     ]
    },
    {
     "data": {
      "image/png": "[encoded data removed]",
      "text/plain": [
       "<Figure size 432x288 with 1 Axes>"
      ]
     },
     "metadata": {
      "needs_background": "light"
     },
     "output_type": "display_data"
    }
   ],
   "source": [
    "from sklearn.inspection import permutation_importance\n",
    "print(\"The 6 features selected are columns: \", features_selected);\n",
    "clf.fit(Xtrain_scaled, y_train)\n",
    "importance = clf.feature_importances_\n",
    "plt.figure(figsize=(6, 4))\n",
    "sns.barplot(x=importance, y=X.columns)\n",
    "plt.title('Feature Importance')\n",
    "plt.xlabel('Importance')\n",
    "plt.ylabel('Features')\n",
    "plt.show()"
   ]
  },
  {
   "cell_type": "markdown",
   "id": "54feb2b5",
   "metadata": {},
   "source": [
    "Tendo em conta os resultados do StepWise ficamos a saber quais sao as 6 features mais importantes."
   ]
  },
  {
   "cell_type": "markdown",
   "id": "705fefdb",
   "metadata": {},
   "source": [
    "### Teste dos modelos neste momento :\n"
   ]
  },
  {
   "cell_type": "code",
   "execution_count": 14,
   "id": "812d98cc",
   "metadata": {},
   "outputs": [
    {
     "data": {
      "text/html": [
       "<div>\n",
       "<style scoped>\n",
       "    .dataframe tbody tr th:only-of-type {\n",
       "        vertical-align: middle;\n",
       "    }\n",
       "\n",
       "    .dataframe tbody tr th {\n",
       "        vertical-align: top;\n",
       "    }\n",
       "\n",
       "    .dataframe thead th {\n",
       "        text-align: right;\n",
       "    }\n",
       "</style>\n",
       "<table border=\"1\" class=\"dataframe\">\n",
       "  <thead>\n",
       "    <tr style=\"text-align: right;\">\n",
       "      <th></th>\n",
       "      <th>Logistic Regression</th>\n",
       "      <th>Decision Trees</th>\n",
       "      <th>SVM</th>\n",
       "      <th>Random Forests</th>\n",
       "    </tr>\n",
       "  </thead>\n",
       "  <tbody>\n",
       "    <tr>\n",
       "      <th>Accuracy</th>\n",
       "      <td>0.943597</td>\n",
       "      <td>0.974784</td>\n",
       "      <td>0.944924</td>\n",
       "      <td>0.956868</td>\n",
       "    </tr>\n",
       "    <tr>\n",
       "      <th>Precision</th>\n",
       "      <td>0.948679</td>\n",
       "      <td>0.976852</td>\n",
       "      <td>0.966327</td>\n",
       "      <td>0.956916</td>\n",
       "    </tr>\n",
       "    <tr>\n",
       "      <th>Recall</th>\n",
       "      <td>0.986656</td>\n",
       "      <td>0.993721</td>\n",
       "      <td>0.968603</td>\n",
       "      <td>0.993721</td>\n",
       "    </tr>\n",
       "    <tr>\n",
       "      <th>F1 Score</th>\n",
       "      <td>0.967295</td>\n",
       "      <td>0.985214</td>\n",
       "      <td>0.967464</td>\n",
       "      <td>0.974971</td>\n",
       "    </tr>\n",
       "    <tr>\n",
       "      <th>MCC</th>\n",
       "      <td>0.770878</td>\n",
       "      <td>0.901193</td>\n",
       "      <td>0.788223</td>\n",
       "      <td>0.827190</td>\n",
       "    </tr>\n",
       "  </tbody>\n",
       "</table>\n",
       "</div>"
      ],
      "text/plain": [
       "           Logistic Regression  Decision Trees       SVM  Random Forests\n",
       "Accuracy              0.943597        0.974784  0.944924        0.956868\n",
       "Precision             0.948679        0.976852  0.966327        0.956916\n",
       "Recall                0.986656        0.993721  0.968603        0.993721\n",
       "F1 Score              0.967295        0.985214  0.967464        0.974971\n",
       "MCC                   0.770878        0.901193  0.788223        0.827190"
      ]
     },
     "execution_count": 14,
     "metadata": {},
     "output_type": "execute_result"
    }
   ],
   "source": [
    "X = smallDataSet.drop('Biodegradable_RB', axis=1)\n",
    "y = smallDataSet['Biodegradable_RB']\n",
    "X_train, X_test, y_train, y_test = train_test_split(X, y, test_size=0.33, random_state=22)\n",
    "Xtrain_scaled, Xtest_scaled = scaleData(StandardScaler(),X_train,X_test)\n",
    "results = {}\n",
    "lrS = testScalers({'StandartScaler':StandardScaler()},LogisticRegression(),results,Xtrain_scaled,Xtest_scaled,y_train,y_test,False);\n",
    "dtS=testScalers({'StandartScaler':StandardScaler()},RandomForestClassifier(),results,Xtrain_scaled,Xtest_scaled,y_train,y_test,False);\n",
    "svmS=testScalers({'StandartScaler':StandardScaler()},DecisionTreeClassifier(),results,Xtrain_scaled,Xtest_scaled,y_train,y_test,False);\n",
    "rfS=testScalers({'StandartScaler':StandardScaler()},SVC(),results,Xtrain_scaled,Xtest_scaled,y_train,y_test,False);\n",
    "# Criar uma tabela com os dados todos\n",
    "data = {'Logistic Regression': lrS, 'Decision Trees': dtS, 'SVM': svmS, 'Random Forests': rfS}\n",
    "df = pd.DataFrame(data)\n",
    "# Set the index labels\n",
    "row_labels = ['Accuracy', 'Precision', 'Recall', 'F1 Score','MCC']\n",
    "df.index = row_labels\n",
    "df"
   ]
  },
  {
   "cell_type": "markdown",
   "id": "dd7d5a15",
   "metadata": {},
   "source": [
    "## Model Tuning:"
   ]
  },
  {
   "cell_type": "markdown",
   "id": "19c4d1c2",
   "metadata": {},
   "source": [
    "#### Vamos comecar com o exemplo das TPs e testar a ferramenta GridSearchCV ao usar o SVC \n"
   ]
  },
  {
   "cell_type": "code",
   "execution_count": 15,
   "id": "ffffb71f",
   "metadata": {},
   "outputs": [
    {
     "name": "stdout",
     "output_type": "stream",
     "text": [
      "Best hyperparameters: {'C': 10, 'gamma': 0.1, 'kernel': 'rbf'}\n"
     ]
    }
   ],
   "source": [
    "from sklearn.svm import SVC\n",
    "from sklearn.model_selection import GridSearchCV\n",
    "X = smallDataSet.drop('Biodegradable_RB', axis=1)\n",
    "y = smallDataSet['Biodegradable_RB']\n",
    "X_train, X_test, y_train, y_test = train_test_split(X, y, test_size=0.33, random_state=22)\n",
    "Xtrain_scaled, Xtest_scaled = scaleData(StandardScaler(),X_train,X_test)\n",
    "gammas = [1e-1, 1e-2, 1e-3, 1e-4, 1e-5, 1e-6, 1e-7]\n",
    "Cs = [1, 10, 100, 1e3, 1e4, 1e5]\n",
    "param_grid = {\"gamma\": gammas, \"C\": Cs}\n",
    "clf = SVC()\n",
    "gs = GridSearchCV(estimator=clf, param_grid=param_grid, scoring=\"f1\")\n",
    "gs=gs.fit(X_train, y_train)\n",
    "param_grid = {\n",
    "    'C': [0.1, 1, 10],\n",
    "    'gamma': [0.01, 0.1, 1],\n",
    "    'kernel': ['linear', 'rbf', 'sigmoid']\n",
    "}\n",
    "svc = SVC()\n",
    "grid_search = GridSearchCV(svc, param_grid, cv=5)\n",
    "grid_search.fit(Xtrain_scaled, y_train)\n",
    "print(\"Best hyperparameters:\", grid_search.best_params_)"
   ]
  },
  {
   "cell_type": "markdown",
   "id": "76deabbb",
   "metadata": {},
   "source": [
    "### Com RandomForests : Modelo com melhores scores até agora:"
   ]
  },
  {
   "cell_type": "code",
   "execution_count": 16,
   "id": "cdf40cad",
   "metadata": {},
   "outputs": [
    {
     "name": "stdout",
     "output_type": "stream",
     "text": [
      "Fitting 3 folds for each of 100 candidates, totalling 300 fits\n",
      "Best parameters found:\n",
      "{'n_estimators': 300, 'min_samples_split': 2, 'min_samples_leaf': 1, 'max_features': 'sqrt', 'max_depth': None, 'bootstrap': False}\n"
     ]
    }
   ],
   "source": [
    "# Algum deste código foi usado e/ou modificado da página web : https://towardsdatascience.com/hyperparameter-tuning-the-random-forest-in-python-using-scikit-learn-28d2aa77dd74\n",
    "from sklearn.model_selection import RandomizedSearchCV\n",
    "X = smallDataSet.drop('Biodegradable_RB', axis=1)\n",
    "y = smallDataSet['Biodegradable_RB']\n",
    "X_train, X_test, y_train, y_test = train_test_split(X, y, test_size=0.33, random_state=22)\n",
    "Xtrain_scaled, Xtest_scaled = scaleData(StandardScaler(),X_train,X_test)\n",
    "# Define the parameter grid for random search\n",
    "random_grid = {\n",
    "    'n_estimators': [100, 200, 300],  # Number of trees in the forest\n",
    "    'max_depth': [None, 5, 10],  # Maximum depth of the tree\n",
    "    'min_samples_split': [2, 5, 10],  # Minimum number of samples required to split an internal node\n",
    "    'min_samples_leaf': [1, 2, 4],  # Minimum number of samples required to be at a leaf node\n",
    "    'max_features': ['sqrt', 'log2'],  # Number of features to consider when looking for the best split\n",
    "    'bootstrap': [True, False]  # Whether bootstrap samples are used when building trees\n",
    "}\n",
    "rf = RandomForestClassifier()\n",
    "rf_random = RandomizedSearchCV(estimator=rf, param_distributions=random_grid, n_iter=100, cv=3, verbose=2, random_state=42, n_jobs=-1)\n",
    "rf_random.fit(Xtrain_scaled, y_train)\n",
    "print(\"Best parameters found:\")\n",
    "rfparams = rf_random.best_params_\n",
    "print(rfparams)\n"
   ]
  },
  {
   "cell_type": "code",
   "execution_count": 17,
   "id": "cd2a8929",
   "metadata": {},
   "outputs": [
    {
     "name": "stdout",
     "output_type": "stream",
     "text": [
      "TESTE DO MODELO: RANDOM FORESTS - Normal\n",
      "\n",
      "Scaler:  StandartScaler\n",
      "The Accuracy is:  0.9741\tThe Precision is:  0.9776\tThe Recall is:  0.9922\tThe F1 score is:  0.9848\tThe Matthews correlation coefficient is:  0.8987\n",
      "Esta é a Matriz Confusão: \n",
      "     0     1\n",
      "0  204    29\n",
      "1   10  1264\n",
      "\n",
      "TESTE DO MODELO: RANDOM FORESTS - Tuned com Hiperparametros\n",
      "Hiperparametros:  {'n_estimators': 300, 'min_samples_split': 2, 'min_samples_leaf': 1, 'max_features': 'sqrt', 'max_depth': None, 'bootstrap': False} \n",
      "\n",
      "Scaler:  StandartScaler\n",
      "The Accuracy is:  0.9754\tThe Precision is:  0.9776\tThe Recall is:  0.9937\tThe F1 score is:  0.9856\tThe Matthews correlation coefficient is:  0.9039\n",
      "Esta é a Matriz Confusão: \n",
      "     0     1\n",
      "0  204    29\n",
      "1    8  1266\n",
      "\n"
     ]
    }
   ],
   "source": [
    "X = smallDataSet.drop('Biodegradable_RB', axis=1)\n",
    "y = smallDataSet['Biodegradable_RB']\n",
    "X_train, X_test, y_train, y_test = train_test_split(X, y, test_size=0.33, random_state=22)\n",
    "Xtrain_scaled, Xtest_scaled = scaleData(StandardScaler(),X_train,X_test)\n",
    "rfparams['n_estimators'] = int(rfparams['n_estimators'])\n",
    "rf = RandomForestClassifier(**rfparams)\n",
    "results = {}\n",
    "print(\"TESTE DO MODELO: RANDOM FORESTS - Normal\\n\")\n",
    "testScalers({'StandartScaler':StandardScaler()},RandomForestClassifier(),results,Xtrain_scaled,Xtest_scaled,y_train,y_test,True,False);\n",
    "print(\"TESTE DO MODELO: RANDOM FORESTS - Tuned com Hiperparametros\")\n",
    "print(\"Hiperparametros: \",rfparams,\"\\n\")\n",
    "testScalers({'StandartScaler':StandardScaler()},rf,results,Xtrain_scaled,Xtest_scaled,y_train,y_test,True,False);"
   ]
  },
  {
   "cell_type": "markdown",
   "id": "acaf761d",
   "metadata": {},
   "source": [
    "## Construção dos diferentes modelos com os devidos hiperparametros:"
   ]
  },
  {
   "cell_type": "code",
   "execution_count": 18,
   "id": "0f85f266",
   "metadata": {},
   "outputs": [],
   "source": [
    "X = smallDataSet.drop('Biodegradable_RB', axis=1)\n",
    "y = smallDataSet['Biodegradable_RB']\n",
    "X_train, X_test, y_train, y_test = train_test_split(X, y, test_size=0.33, random_state=22)\n",
    "Xtrain_scaled, Xtest_scaled = scaleData(StandardScaler(),X_train,X_test)\n",
    "results={}"
   ]
  },
  {
   "cell_type": "markdown",
   "id": "1243a566",
   "metadata": {},
   "source": [
    "### Regressão Logistica"
   ]
  },
  {
   "cell_type": "code",
   "execution_count": 19,
   "id": "ae184f62",
   "metadata": {},
   "outputs": [
    {
     "name": "stdout",
     "output_type": "stream",
     "text": [
      "Best parameters found: {'C': 1, 'max_iter': 10000, 'penalty': 'l1', 'solver': 'liblinear'}\n",
      "Best score: 0.9348972540461903\n"
     ]
    }
   ],
   "source": [
    "from sklearn.linear_model import LogisticRegression\n",
    "from sklearn.model_selection import GridSearchCV\n",
    "param_grid = {\n",
    "    'penalty': ['l1','l2'], # L1 ou L2 os dois tipos de regularização\n",
    "    'C': [0.001,0.1, 1, 10,100],\n",
    "    'solver': ['liblinear', 'saga'], # teoricamente liblinear deve ser bom para o nosso caso com um dataset mais pequeno\n",
    "    'max_iter': [10000, 20000, 50000] # numero maximo de iteracoes que o solver pode fazer\n",
    "}\n",
    "lr=LogisticRegression()\n",
    "grid_search = GridSearchCV(estimator=lr, param_grid=param_grid, cv=5,error_score='raise')\n",
    "grid_search.fit(Xtrain_scaled,y_train)\n",
    "print(\"Best parameters found:\", grid_search.best_params_)\n",
    "print(\"Best score:\", grid_search.best_score_)"
   ]
  },
  {
   "cell_type": "code",
   "execution_count": 20,
   "id": "447bf344",
   "metadata": {},
   "outputs": [
    {
     "name": "stdout",
     "output_type": "stream",
     "text": [
      "TESTE DO MODELO: Regressao Logistica - Tuned com Hiperparametros\n",
      "Hiperparametros:  {'C': 1, 'max_iter': 10000, 'penalty': 'l1', 'solver': 'liblinear'} \n",
      "\n",
      "Scaler:  StandartScaler\n",
      "The Accuracy is:  0.9436\tThe Precision is:  0.9487\tThe Recall is:  0.9867\tThe F1 score is:  0.9673\tThe Matthews correlation coefficient is:  0.7709\n",
      "Esta é a Matriz Confusão: \n",
      "     0     1\n",
      "0  165    68\n",
      "1   17  1257\n",
      "\n"
     ]
    }
   ],
   "source": [
    "lrParams= grid_search.best_params_\n",
    "lr = LogisticRegression(**lrParams)\n",
    "print(\"TESTE DO MODELO: Regressao Logistica - Tuned com Hiperparametros\")\n",
    "print(\"Hiperparametros: \",lrParams,\"\\n\")\n",
    "lrStats= testScalers({'StandartScaler':StandardScaler()},lr,results,Xtrain_scaled,Xtest_scaled,y_train,y_test);"
   ]
  },
  {
   "cell_type": "markdown",
   "id": "bae6d8fc",
   "metadata": {},
   "source": [
    "### Avores de Decisão"
   ]
  },
  {
   "cell_type": "code",
   "execution_count": 21,
   "id": "05e7bc4b",
   "metadata": {},
   "outputs": [
    {
     "name": "stdout",
     "output_type": "stream",
     "text": [
      "Best parameters found: {'criterion': 'gini', 'max_depth': 20, 'max_features': 'log2', 'min_samples_leaf': 1, 'min_samples_split': 10}\n",
      "Best score: 0.9381807387439428\n"
     ]
    }
   ],
   "source": [
    "from sklearn.tree import DecisionTreeClassifier\n",
    "from sklearn.model_selection import GridSearchCV\n",
    "param_grid = {\n",
    "    'criterion': ['gini', 'entropy'],  # Criterio de sepração - entropy é a entropia, e o gini avalia a probabilidade de classificação\n",
    "                                       # incorreta de uma amostra escolhida ao calhas\n",
    "    'max_depth': [None, 5, 10, 20], \n",
    "    'min_samples_split': [2, 5, 10], \n",
    "    'min_samples_leaf': [1, 2, 4],  \n",
    "    'max_features': ['sqrt', 'log2']  # Numero de features a ter em conta \n",
    "}\n",
    "dt = DecisionTreeClassifier()\n",
    "grid_search = GridSearchCV(estimator=dt, param_grid=param_grid, cv=5) # usamos k=5 na cross validation pois pelas pesquisas que fiz tende a ser o mais comum\n",
    "grid_search.fit(Xtrain_scaled, y_train)\n",
    "print(\"Best parameters found:\", grid_search.best_params_)\n",
    "print(\"Best score:\", grid_search.best_score_)"
   ]
  },
  {
   "cell_type": "code",
   "execution_count": 22,
   "id": "be0aa8f4",
   "metadata": {},
   "outputs": [
    {
     "name": "stdout",
     "output_type": "stream",
     "text": [
      "TESTE DO MODELO: Arvores de Decisão - Tuned com Hiperparametros\n",
      "Hiperparametros:  {'criterion': 'gini', 'max_depth': 20, 'max_features': 'log2', 'min_samples_leaf': 1, 'min_samples_split': 10} \n",
      "\n",
      "Scaler:  StandartScaler\n",
      "The Accuracy is:  0.9443\tThe Precision is:  0.9685\tThe Recall is:  0.9655\tThe F1 score is:  0.9670\tThe Matthews correlation coefficient is:  0.7883\n",
      "Esta é a Matriz Confusão: \n",
      "     0     1\n",
      "0  193    40\n",
      "1   44  1230\n",
      "\n"
     ]
    }
   ],
   "source": [
    "dtParams= grid_search.best_params_\n",
    "dt = DecisionTreeClassifier(**dtParams)\n",
    "print(\"TESTE DO MODELO: Arvores de Decisão - Tuned com Hiperparametros\")\n",
    "print(\"Hiperparametros: \",dtParams,\"\\n\")\n",
    "dtStats = testScalers({'StandartScaler':StandardScaler()},dt,results,Xtrain_scaled,Xtest_scaled,y_train,y_test);"
   ]
  },
  {
   "cell_type": "markdown",
   "id": "12ea6ac8",
   "metadata": {},
   "source": [
    "### SVM"
   ]
  },
  {
   "cell_type": "code",
   "execution_count": 23,
   "id": "1ae7c6d7",
   "metadata": {},
   "outputs": [
    {
     "name": "stdout",
     "output_type": "stream",
     "text": [
      "Best hyperparameters: {'C': 10, 'gamma': 0.1, 'kernel': 'rbf'}\n",
      "TESTE DO MODELO: SVM - Tuned com Hiperparametros\n",
      "Hiperparametros:  {'C': 10, 'gamma': 0.1, 'kernel': 'rbf'} \n",
      "\n",
      "Scaler:  StandartScaler\n",
      "The Accuracy is:  0.9715\tThe Precision is:  0.9760\tThe Recall is:  0.9906\tThe F1 score is:  0.9832\tThe Matthews correlation coefficient is:  0.8882\n",
      "Esta é a Matriz Confusão: \n",
      "     0     1\n",
      "0  202    31\n",
      "1   12  1262\n",
      "\n"
     ]
    }
   ],
   "source": [
    "# Já tinhamos visto como fazer model tuning no caso do SVM mas aqui vamos só indicar os resultados obtidos\n",
    "from sklearn.svm import SVC\n",
    "from sklearn.model_selection import GridSearchCV\n",
    "param_grid = {'C': [0.001, 0.01, 0.1, 1, 10],'gamma': [0.001, 0.01, 0.1, 1, 10],'kernel': ['linear', 'rbf', 'sigmoid']}\n",
    "svc = SVC()\n",
    "grid_search = GridSearchCV(svc, param_grid, cv=5) # usamos k=5 na cross validation pois pelas pesquisas que fiz tende a ser o mais comum\n",
    "grid_search.fit(Xtrain_scaled, y_train)\n",
    "print(\"Best hyperparameters:\", grid_search.best_params_)\n",
    "svmParams= grid_search.best_params_\n",
    "svm = SVC(**svmParams)\n",
    "print(\"TESTE DO MODELO: SVM - Tuned com Hiperparametros\")\n",
    "print(\"Hiperparametros: \",svmParams,\"\\n\")\n",
    "svmStats = testScalers({'StandartScaler':StandardScaler()},svm,results,Xtrain_scaled,Xtest_scaled,y_train,y_test);"
   ]
  },
  {
   "cell_type": "markdown",
   "id": "44d9ad9c",
   "metadata": {},
   "source": [
    "### RandomForests"
   ]
  },
  {
   "cell_type": "code",
   "execution_count": 24,
   "id": "279154cb",
   "metadata": {},
   "outputs": [
    {
     "name": "stdout",
     "output_type": "stream",
     "text": [
      "TESTE DO MODELO: RANDOM FORESTS - Tuned com Hiperparametros\n",
      "Hiperparametros:  {'n_estimators': 300, 'min_samples_split': 2, 'min_samples_leaf': 1, 'max_features': 'sqrt', 'max_depth': None, 'bootstrap': False} \n",
      "\n",
      "Scaler:  StandartScaler\n",
      "The Accuracy is:  0.9754\tThe Precision is:  0.9783\tThe Recall is:  0.9929\tThe F1 score is:  0.9856\tThe Matthews correlation coefficient is:  0.9040\n",
      "Esta é a Matriz Confusão: \n",
      "     0     1\n",
      "0  205    28\n",
      "1    9  1265\n",
      "\n"
     ]
    }
   ],
   "source": [
    "# Tendo em conta os testes realizados antes temos os seguintes resultados:\n",
    "rf = RandomForestClassifier(**rfparams)\n",
    "print(\"TESTE DO MODELO: RANDOM FORESTS - Tuned com Hiperparametros\")\n",
    "print(\"Hiperparametros: \",rfparams,\"\\n\")\n",
    "rfStats = testScalers({'StandartScaler':StandardScaler()},rf,results,Xtrain_scaled,Xtest_scaled,y_train,y_test);"
   ]
  },
  {
   "cell_type": "markdown",
   "id": "2264a841",
   "metadata": {},
   "source": [
    "## Escolha do melhor modelo face aos resultados obtidos:"
   ]
  },
  {
   "cell_type": "code",
   "execution_count": 25,
   "id": "cab5a552",
   "metadata": {},
   "outputs": [
    {
     "data": {
      "text/html": [
       "<div>\n",
       "<style scoped>\n",
       "    .dataframe tbody tr th:only-of-type {\n",
       "        vertical-align: middle;\n",
       "    }\n",
       "\n",
       "    .dataframe tbody tr th {\n",
       "        vertical-align: top;\n",
       "    }\n",
       "\n",
       "    .dataframe thead th {\n",
       "        text-align: right;\n",
       "    }\n",
       "</style>\n",
       "<table border=\"1\" class=\"dataframe\">\n",
       "  <thead>\n",
       "    <tr style=\"text-align: right;\">\n",
       "      <th></th>\n",
       "      <th>Logistic Regression</th>\n",
       "      <th>Decision Trees</th>\n",
       "      <th>SVM</th>\n",
       "      <th>Random Forests</th>\n",
       "    </tr>\n",
       "  </thead>\n",
       "  <tbody>\n",
       "    <tr>\n",
       "      <th>Accuracy</th>\n",
       "      <td>0.943597</td>\n",
       "      <td>0.944260</td>\n",
       "      <td>0.971466</td>\n",
       "      <td>0.975448</td>\n",
       "    </tr>\n",
       "    <tr>\n",
       "      <th>Precision</th>\n",
       "      <td>0.948679</td>\n",
       "      <td>0.968504</td>\n",
       "      <td>0.976025</td>\n",
       "      <td>0.978345</td>\n",
       "    </tr>\n",
       "    <tr>\n",
       "      <th>Recall</th>\n",
       "      <td>0.986656</td>\n",
       "      <td>0.965463</td>\n",
       "      <td>0.990581</td>\n",
       "      <td>0.992936</td>\n",
       "    </tr>\n",
       "    <tr>\n",
       "      <th>F1 Score</th>\n",
       "      <td>0.967295</td>\n",
       "      <td>0.966981</td>\n",
       "      <td>0.983249</td>\n",
       "      <td>0.985586</td>\n",
       "    </tr>\n",
       "    <tr>\n",
       "      <th>MCC</th>\n",
       "      <td>0.770878</td>\n",
       "      <td>0.788301</td>\n",
       "      <td>0.888194</td>\n",
       "      <td>0.903969</td>\n",
       "    </tr>\n",
       "  </tbody>\n",
       "</table>\n",
       "</div>"
      ],
      "text/plain": [
       "           Logistic Regression  Decision Trees       SVM  Random Forests\n",
       "Accuracy              0.943597        0.944260  0.971466        0.975448\n",
       "Precision             0.948679        0.968504  0.976025        0.978345\n",
       "Recall                0.986656        0.965463  0.990581        0.992936\n",
       "F1 Score              0.967295        0.966981  0.983249        0.985586\n",
       "MCC                   0.770878        0.788301  0.888194        0.903969"
      ]
     },
     "execution_count": 25,
     "metadata": {},
     "output_type": "execute_result"
    }
   ],
   "source": [
    "# Criar uma tabela com os dados todos\n",
    "data = {'Logistic Regression': lrStats, 'Decision Trees': dtStats, 'SVM': svmStats, 'Random Forests': rfStats}\n",
    "df = pd.DataFrame(data)\n",
    "# Set the index labels\n",
    "row_labels = ['Accuracy', 'Precision', 'Recall', 'F1 Score','MCC']\n",
    "df.index = row_labels\n",
    "df"
   ]
  },
  {
   "cell_type": "markdown",
   "id": "c0e21148",
   "metadata": {},
   "source": [
    "#### Como podemos observar pela tabela, tanto o modelo SVM como o RandomForest conseguiram melhores resultados em todas as métricas\n",
    "\n",
    "\n"
   ]
  },
  {
   "cell_type": "code",
   "execution_count": 26,
   "id": "14e2eed9",
   "metadata": {},
   "outputs": [
    {
     "data": {
      "text/html": [
       "<div>\n",
       "<style scoped>\n",
       "    .dataframe tbody tr th:only-of-type {\n",
       "        vertical-align: middle;\n",
       "    }\n",
       "\n",
       "    .dataframe tbody tr th {\n",
       "        vertical-align: top;\n",
       "    }\n",
       "\n",
       "    .dataframe thead th {\n",
       "        text-align: right;\n",
       "    }\n",
       "</style>\n",
       "<table border=\"1\" class=\"dataframe\">\n",
       "  <thead>\n",
       "    <tr style=\"text-align: right;\">\n",
       "      <th></th>\n",
       "      <th>SVM</th>\n",
       "      <th>RF</th>\n",
       "      <th>RF - SVM</th>\n",
       "    </tr>\n",
       "  </thead>\n",
       "  <tbody>\n",
       "    <tr>\n",
       "      <th>Accuracy</th>\n",
       "      <td>0.971466</td>\n",
       "      <td>0.975448</td>\n",
       "      <td>0.003981</td>\n",
       "    </tr>\n",
       "    <tr>\n",
       "      <th>Precision</th>\n",
       "      <td>0.976025</td>\n",
       "      <td>0.978345</td>\n",
       "      <td>0.002320</td>\n",
       "    </tr>\n",
       "    <tr>\n",
       "      <th>Recall</th>\n",
       "      <td>0.990581</td>\n",
       "      <td>0.992936</td>\n",
       "      <td>0.002355</td>\n",
       "    </tr>\n",
       "    <tr>\n",
       "      <th>F1 Score</th>\n",
       "      <td>0.983249</td>\n",
       "      <td>0.985586</td>\n",
       "      <td>0.002337</td>\n",
       "    </tr>\n",
       "    <tr>\n",
       "      <th>MCC</th>\n",
       "      <td>0.888194</td>\n",
       "      <td>0.903969</td>\n",
       "      <td>0.015775</td>\n",
       "    </tr>\n",
       "  </tbody>\n",
       "</table>\n",
       "</div>"
      ],
      "text/plain": [
       "                SVM        RF  RF - SVM\n",
       "Accuracy   0.971466  0.975448  0.003981\n",
       "Precision  0.976025  0.978345  0.002320\n",
       "Recall     0.990581  0.992936  0.002355\n",
       "F1 Score   0.983249  0.985586  0.002337\n",
       "MCC        0.888194  0.903969  0.015775"
      ]
     },
     "execution_count": 26,
     "metadata": {},
     "output_type": "execute_result"
    }
   ],
   "source": [
    "difStats = np.array(rfStats)-np.array(svmStats)\n",
    "data = {'SVM': svmStats, 'RF': rfStats, 'RF - SVM': difStats}\n",
    "df = pd.DataFrame(data)\n",
    "row_labels = ['Accuracy', 'Precision', 'Recall', 'F1 Score','MCC']\n",
    "df.index = row_labels\n",
    "df"
   ]
  }
 ],
 "metadata": {
  "kernelspec": {
   "display_name": "Python 3 (ipykernel)",
   "language": "python",
   "name": "python3"
  },
  "language_info": {
   "codemirror_mode": {
    "name": "ipython",
    "version": 3
   },
   "file_extension": ".py",
   "mimetype": "text/x-python",
   "name": "python",
   "nbconvert_exporter": "python",
   "pygments_lexer": "ipython3",
   "version": "3.9.12"
  }
 },
 "nbformat": 4,
 "nbformat_minor": 5
}
